{
 "cells": [
  {
   "cell_type": "code",
   "execution_count": 1,
   "metadata": {},
   "outputs": [],
   "source": [
    "import pandas as pd\n",
    "import numpy as np"
   ]
  },
  {
   "cell_type": "markdown",
   "metadata": {},
   "source": [
    "### Read file VeloV.sample.csv with NaN column"
   ]
  },
  {
   "cell_type": "code",
   "execution_count": 2,
   "metadata": {},
   "outputs": [
    {
     "data": {
      "text/html": [
       "<div>\n",
       "<style scoped>\n",
       "    .dataframe tbody tr th:only-of-type {\n",
       "        vertical-align: middle;\n",
       "    }\n",
       "\n",
       "    .dataframe tbody tr th {\n",
       "        vertical-align: top;\n",
       "    }\n",
       "\n",
       "    .dataframe thead th {\n",
       "        text-align: right;\n",
       "    }\n",
       "</style>\n",
       "<table border=\"1\" class=\"dataframe\">\n",
       "  <thead>\n",
       "    <tr style=\"text-align: right;\">\n",
       "      <th></th>\n",
       "      <th>ID</th>\n",
       "      <th>time-stamp</th>\n",
       "      <th>hour</th>\n",
       "      <th>day-of-week</th>\n",
       "      <th>available-bike-stands</th>\n",
       "      <th>available-bikes</th>\n",
       "      <th>nan</th>\n",
       "    </tr>\n",
       "  </thead>\n",
       "  <tbody>\n",
       "    <tr>\n",
       "      <th>0</th>\n",
       "      <td>10113</td>\n",
       "      <td>635304352870000000</td>\n",
       "      <td>23</td>\n",
       "      <td>Friday</td>\n",
       "      <td>20</td>\n",
       "      <td>1</td>\n",
       "      <td>NaN</td>\n",
       "    </tr>\n",
       "    <tr>\n",
       "      <th>1</th>\n",
       "      <td>10113</td>\n",
       "      <td>635304358900000000</td>\n",
       "      <td>23</td>\n",
       "      <td>Friday</td>\n",
       "      <td>20</td>\n",
       "      <td>1</td>\n",
       "      <td>NaN</td>\n",
       "    </tr>\n",
       "    <tr>\n",
       "      <th>2</th>\n",
       "      <td>10113</td>\n",
       "      <td>635304364930000000</td>\n",
       "      <td>23</td>\n",
       "      <td>Friday</td>\n",
       "      <td>20</td>\n",
       "      <td>1</td>\n",
       "      <td>NaN</td>\n",
       "    </tr>\n",
       "    <tr>\n",
       "      <th>3</th>\n",
       "      <td>10113</td>\n",
       "      <td>635304370970000000</td>\n",
       "      <td>23</td>\n",
       "      <td>Friday</td>\n",
       "      <td>20</td>\n",
       "      <td>1</td>\n",
       "      <td>NaN</td>\n",
       "    </tr>\n",
       "    <tr>\n",
       "      <th>4</th>\n",
       "      <td>10113</td>\n",
       "      <td>635304377010000000</td>\n",
       "      <td>23</td>\n",
       "      <td>Friday</td>\n",
       "      <td>20</td>\n",
       "      <td>1</td>\n",
       "      <td>NaN</td>\n",
       "    </tr>\n",
       "  </tbody>\n",
       "</table>\n",
       "</div>"
      ],
      "text/plain": [
       "      ID          time-stamp  hour day-of-week  available-bike-stands  \\\n",
       "0  10113  635304352870000000    23      Friday                     20   \n",
       "1  10113  635304358900000000    23      Friday                     20   \n",
       "2  10113  635304364930000000    23      Friday                     20   \n",
       "3  10113  635304370970000000    23      Friday                     20   \n",
       "4  10113  635304377010000000    23      Friday                     20   \n",
       "\n",
       "   available-bikes  nan  \n",
       "0                1  NaN  \n",
       "1                1  NaN  \n",
       "2                1  NaN  \n",
       "3                1  NaN  \n",
       "4                1  NaN  "
      ]
     },
     "execution_count": 2,
     "metadata": {},
     "output_type": "execute_result"
    }
   ],
   "source": [
    "columns = ['ID', 'time-stamp', 'hour', 'day-of-week', 'available-bike-stands', 'available-bikes', 'nan']\n",
    "df = pd.read_csv('./VeloV.sample.csv', header=None, names=columns,\n",
    "                sep=';')\n",
    "df.head()"
   ]
  },
  {
   "cell_type": "markdown",
   "metadata": {},
   "source": [
    "### Drop NaN column"
   ]
  },
  {
   "cell_type": "code",
   "execution_count": 3,
   "metadata": {},
   "outputs": [],
   "source": [
    "df = df.drop(['nan'], axis=1)"
   ]
  },
  {
   "cell_type": "code",
   "execution_count": 4,
   "metadata": {},
   "outputs": [
    {
     "data": {
      "text/html": [
       "<div>\n",
       "<style scoped>\n",
       "    .dataframe tbody tr th:only-of-type {\n",
       "        vertical-align: middle;\n",
       "    }\n",
       "\n",
       "    .dataframe tbody tr th {\n",
       "        vertical-align: top;\n",
       "    }\n",
       "\n",
       "    .dataframe thead th {\n",
       "        text-align: right;\n",
       "    }\n",
       "</style>\n",
       "<table border=\"1\" class=\"dataframe\">\n",
       "  <thead>\n",
       "    <tr style=\"text-align: right;\">\n",
       "      <th></th>\n",
       "      <th>ID</th>\n",
       "      <th>time-stamp</th>\n",
       "      <th>hour</th>\n",
       "      <th>day-of-week</th>\n",
       "      <th>available-bike-stands</th>\n",
       "      <th>available-bikes</th>\n",
       "    </tr>\n",
       "  </thead>\n",
       "  <tbody>\n",
       "    <tr>\n",
       "      <th>0</th>\n",
       "      <td>10113</td>\n",
       "      <td>635304352870000000</td>\n",
       "      <td>23</td>\n",
       "      <td>Friday</td>\n",
       "      <td>20</td>\n",
       "      <td>1</td>\n",
       "    </tr>\n",
       "    <tr>\n",
       "      <th>1</th>\n",
       "      <td>10113</td>\n",
       "      <td>635304358900000000</td>\n",
       "      <td>23</td>\n",
       "      <td>Friday</td>\n",
       "      <td>20</td>\n",
       "      <td>1</td>\n",
       "    </tr>\n",
       "    <tr>\n",
       "      <th>2</th>\n",
       "      <td>10113</td>\n",
       "      <td>635304364930000000</td>\n",
       "      <td>23</td>\n",
       "      <td>Friday</td>\n",
       "      <td>20</td>\n",
       "      <td>1</td>\n",
       "    </tr>\n",
       "    <tr>\n",
       "      <th>3</th>\n",
       "      <td>10113</td>\n",
       "      <td>635304370970000000</td>\n",
       "      <td>23</td>\n",
       "      <td>Friday</td>\n",
       "      <td>20</td>\n",
       "      <td>1</td>\n",
       "    </tr>\n",
       "    <tr>\n",
       "      <th>4</th>\n",
       "      <td>10113</td>\n",
       "      <td>635304377010000000</td>\n",
       "      <td>23</td>\n",
       "      <td>Friday</td>\n",
       "      <td>20</td>\n",
       "      <td>1</td>\n",
       "    </tr>\n",
       "  </tbody>\n",
       "</table>\n",
       "</div>"
      ],
      "text/plain": [
       "      ID          time-stamp  hour day-of-week  available-bike-stands  \\\n",
       "0  10113  635304352870000000    23      Friday                     20   \n",
       "1  10113  635304358900000000    23      Friday                     20   \n",
       "2  10113  635304364930000000    23      Friday                     20   \n",
       "3  10113  635304370970000000    23      Friday                     20   \n",
       "4  10113  635304377010000000    23      Friday                     20   \n",
       "\n",
       "   available-bikes  \n",
       "0                1  \n",
       "1                1  \n",
       "2                1  \n",
       "3                1  \n",
       "4                1  "
      ]
     },
     "execution_count": 4,
     "metadata": {},
     "output_type": "execute_result"
    }
   ],
   "source": [
    "df.head()"
   ]
  },
  {
   "cell_type": "markdown",
   "metadata": {},
   "source": [
    "### Reformat Time-Stamp\n",
    "This is code below for testing an example time-stamp: 63530435287000000"
   ]
  },
  {
   "cell_type": "code",
   "execution_count": 5,
   "metadata": {},
   "outputs": [
    {
     "data": {
      "text/plain": [
       "'2014-03-14 23:08:07+00:00'"
      ]
     },
     "execution_count": 5,
     "metadata": {},
     "output_type": "execute_result"
    }
   ],
   "source": [
    "from datetime import datetime, timedelta, timezone\n",
    "epoch = datetime(1, 1, 1, tzinfo=timezone.utc)\n",
    "cookie_microseconds_since_epoch = 63530435287000000\n",
    "cookie_datetime = epoch + timedelta(microseconds=cookie_microseconds_since_epoch)\n",
    "str(cookie_datetime)"
   ]
  },
  {
   "cell_type": "markdown",
   "metadata": {},
   "source": [
    "### Apply for the whole data set"
   ]
  },
  {
   "cell_type": "code",
   "execution_count": 6,
   "metadata": {},
   "outputs": [],
   "source": [
    "df['time-stamp'] = df['time-stamp'].map(lambda x: epoch + timedelta(microseconds=int(x)/10))"
   ]
  },
  {
   "cell_type": "code",
   "execution_count": 7,
   "metadata": {},
   "outputs": [
    {
     "data": {
      "text/html": [
       "<div>\n",
       "<style scoped>\n",
       "    .dataframe tbody tr th:only-of-type {\n",
       "        vertical-align: middle;\n",
       "    }\n",
       "\n",
       "    .dataframe tbody tr th {\n",
       "        vertical-align: top;\n",
       "    }\n",
       "\n",
       "    .dataframe thead th {\n",
       "        text-align: right;\n",
       "    }\n",
       "</style>\n",
       "<table border=\"1\" class=\"dataframe\">\n",
       "  <thead>\n",
       "    <tr style=\"text-align: right;\">\n",
       "      <th></th>\n",
       "      <th>ID</th>\n",
       "      <th>time-stamp</th>\n",
       "      <th>hour</th>\n",
       "      <th>day-of-week</th>\n",
       "      <th>available-bike-stands</th>\n",
       "      <th>available-bikes</th>\n",
       "    </tr>\n",
       "  </thead>\n",
       "  <tbody>\n",
       "    <tr>\n",
       "      <th>0</th>\n",
       "      <td>10113</td>\n",
       "      <td>2014-03-14 23:08:07+00:00</td>\n",
       "      <td>23</td>\n",
       "      <td>Friday</td>\n",
       "      <td>20</td>\n",
       "      <td>1</td>\n",
       "    </tr>\n",
       "    <tr>\n",
       "      <th>1</th>\n",
       "      <td>10113</td>\n",
       "      <td>2014-03-14 23:18:10+00:00</td>\n",
       "      <td>23</td>\n",
       "      <td>Friday</td>\n",
       "      <td>20</td>\n",
       "      <td>1</td>\n",
       "    </tr>\n",
       "    <tr>\n",
       "      <th>2</th>\n",
       "      <td>10113</td>\n",
       "      <td>2014-03-14 23:28:13+00:00</td>\n",
       "      <td>23</td>\n",
       "      <td>Friday</td>\n",
       "      <td>20</td>\n",
       "      <td>1</td>\n",
       "    </tr>\n",
       "    <tr>\n",
       "      <th>3</th>\n",
       "      <td>10113</td>\n",
       "      <td>2014-03-14 23:38:17+00:00</td>\n",
       "      <td>23</td>\n",
       "      <td>Friday</td>\n",
       "      <td>20</td>\n",
       "      <td>1</td>\n",
       "    </tr>\n",
       "    <tr>\n",
       "      <th>4</th>\n",
       "      <td>10113</td>\n",
       "      <td>2014-03-14 23:48:21+00:00</td>\n",
       "      <td>23</td>\n",
       "      <td>Friday</td>\n",
       "      <td>20</td>\n",
       "      <td>1</td>\n",
       "    </tr>\n",
       "  </tbody>\n",
       "</table>\n",
       "</div>"
      ],
      "text/plain": [
       "      ID                time-stamp  hour day-of-week  available-bike-stands  \\\n",
       "0  10113 2014-03-14 23:08:07+00:00    23      Friday                     20   \n",
       "1  10113 2014-03-14 23:18:10+00:00    23      Friday                     20   \n",
       "2  10113 2014-03-14 23:28:13+00:00    23      Friday                     20   \n",
       "3  10113 2014-03-14 23:38:17+00:00    23      Friday                     20   \n",
       "4  10113 2014-03-14 23:48:21+00:00    23      Friday                     20   \n",
       "\n",
       "   available-bikes  \n",
       "0                1  \n",
       "1                1  \n",
       "2                1  \n",
       "3                1  \n",
       "4                1  "
      ]
     },
     "execution_count": 7,
     "metadata": {},
     "output_type": "execute_result"
    }
   ],
   "source": [
    "df.head()"
   ]
  },
  {
   "cell_type": "markdown",
   "metadata": {},
   "source": [
    "#### Acces the attributes of Time-Stamp\n",
    "link https://pandas.pydata.org/pandas-docs/version/0.23.4/generated/pandas.Timestamp.html"
   ]
  },
  {
   "cell_type": "code",
   "execution_count": 8,
   "metadata": {},
   "outputs": [
    {
     "data": {
      "text/plain": [
       "23"
      ]
     },
     "execution_count": 8,
     "metadata": {},
     "output_type": "execute_result"
    }
   ],
   "source": [
    "df['time-stamp'][1].hour"
   ]
  },
  {
   "cell_type": "code",
   "execution_count": 9,
   "metadata": {},
   "outputs": [
    {
     "data": {
      "text/plain": [
       "18"
      ]
     },
     "execution_count": 9,
     "metadata": {},
     "output_type": "execute_result"
    }
   ],
   "source": [
    "df['time-stamp'][1].minute"
   ]
  },
  {
   "cell_type": "code",
   "execution_count": 10,
   "metadata": {},
   "outputs": [
    {
     "data": {
      "text/plain": [
       "10"
      ]
     },
     "execution_count": 10,
     "metadata": {},
     "output_type": "execute_result"
    }
   ],
   "source": [
    "df['time-stamp'][1].second"
   ]
  },
  {
   "cell_type": "markdown",
   "metadata": {},
   "source": [
    "### Save the reformatted file"
   ]
  },
  {
   "cell_type": "code",
   "execution_count": 11,
   "metadata": {},
   "outputs": [],
   "source": [
    "df.to_csv('./VeloVformatted.sample.csv', header = True, index = False, sep = \";\")"
   ]
  },
  {
   "cell_type": "markdown",
   "metadata": {},
   "source": [
    "you can do the same thing with 'VeloV.csv'"
   ]
  },
  {
   "cell_type": "code",
   "execution_count": null,
   "metadata": {},
   "outputs": [],
   "source": []
  }
 ],
 "metadata": {
  "kernelspec": {
   "display_name": "Python 3",
   "language": "python",
   "name": "python3"
  },
  "language_info": {
   "codemirror_mode": {
    "name": "ipython",
    "version": 3
   },
   "file_extension": ".py",
   "mimetype": "text/x-python",
   "name": "python",
   "nbconvert_exporter": "python",
   "pygments_lexer": "ipython3",
   "version": "3.6.8"
  }
 },
 "nbformat": 4,
 "nbformat_minor": 2
}
